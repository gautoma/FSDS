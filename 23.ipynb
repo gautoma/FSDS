{
 "cells": [
  {
   "cell_type": "markdown",
   "id": "f61a7854",
   "metadata": {},
   "source": [
    "Question-01"
   ]
  },
  {
   "cell_type": "code",
   "execution_count": 3,
   "id": "fa73992c",
   "metadata": {},
   "outputs": [],
   "source": [
    "def is_symmetrical(number):\n",
    "    return True if str(number)==str(number)[::-1] else False"
   ]
  },
  {
   "cell_type": "code",
   "execution_count": 4,
   "id": "2bca0b4f",
   "metadata": {},
   "outputs": [
    {
     "data": {
      "text/plain": [
       "True"
      ]
     },
     "execution_count": 4,
     "metadata": {},
     "output_type": "execute_result"
    }
   ],
   "source": [
    "is_symmetrical(7227)"
   ]
  },
  {
   "cell_type": "code",
   "execution_count": 5,
   "id": "f86b5f3e",
   "metadata": {},
   "outputs": [
    {
     "data": {
      "text/plain": [
       "False"
      ]
     },
     "execution_count": 5,
     "metadata": {},
     "output_type": "execute_result"
    }
   ],
   "source": [
    "is_symmetrical(12567)"
   ]
  },
  {
   "cell_type": "code",
   "execution_count": 6,
   "id": "149ed18f",
   "metadata": {},
   "outputs": [
    {
     "data": {
      "text/plain": [
       "True"
      ]
     },
     "execution_count": 6,
     "metadata": {},
     "output_type": "execute_result"
    }
   ],
   "source": [
    "is_symmetrical(44444444)"
   ]
  },
  {
   "cell_type": "code",
   "execution_count": 7,
   "id": "bce4b2f7",
   "metadata": {},
   "outputs": [
    {
     "data": {
      "text/plain": [
       "False"
      ]
     },
     "execution_count": 7,
     "metadata": {},
     "output_type": "execute_result"
    }
   ],
   "source": [
    "is_symmetrical(9939)"
   ]
  },
  {
   "cell_type": "code",
   "execution_count": 8,
   "id": "7b81b0a4",
   "metadata": {},
   "outputs": [
    {
     "data": {
      "text/plain": [
       "True"
      ]
     },
     "execution_count": 8,
     "metadata": {},
     "output_type": "execute_result"
    }
   ],
   "source": [
    "is_symmetrical(1112111)"
   ]
  },
  {
   "cell_type": "code",
   "execution_count": 9,
   "id": "854b27ee",
   "metadata": {},
   "outputs": [],
   "source": [
    "new = '2, 3'.split(', ')"
   ]
  },
  {
   "cell_type": "code",
   "execution_count": 10,
   "id": "7bd82ccc",
   "metadata": {},
   "outputs": [
    {
     "data": {
      "text/plain": [
       "['2', '3']"
      ]
     },
     "execution_count": 10,
     "metadata": {},
     "output_type": "execute_result"
    }
   ],
   "source": [
    "new"
   ]
  },
  {
   "cell_type": "markdown",
   "id": "b647d5dd",
   "metadata": {},
   "source": [
    "Question-02"
   ]
  },
  {
   "cell_type": "code",
   "execution_count": 13,
   "id": "c85e978c",
   "metadata": {},
   "outputs": [],
   "source": [
    "def multiple_nums(string):\n",
    "    result_list = string.split(', ')\n",
    "    final_list = []\n",
    "    for i in result_list:\n",
    "        final_list.append(int(i))\n",
    "    value = 1\n",
    "    for i in final_list:\n",
    "        value=value*i\n",
    "    return value"
   ]
  },
  {
   "cell_type": "code",
   "execution_count": 14,
   "id": "1f2fcf14",
   "metadata": {},
   "outputs": [
    {
     "data": {
      "text/plain": [
       "6"
      ]
     },
     "execution_count": 14,
     "metadata": {},
     "output_type": "execute_result"
    }
   ],
   "source": [
    "multiple_nums('2, 3')"
   ]
  },
  {
   "cell_type": "code",
   "execution_count": 15,
   "id": "1c693806",
   "metadata": {},
   "outputs": [
    {
     "data": {
      "text/plain": [
       "120"
      ]
     },
     "execution_count": 15,
     "metadata": {},
     "output_type": "execute_result"
    }
   ],
   "source": [
    "multiple_nums('1, 2, 3, 4, 5')"
   ]
  },
  {
   "cell_type": "code",
   "execution_count": 16,
   "id": "111d197f",
   "metadata": {},
   "outputs": [
    {
     "data": {
      "text/plain": [
       "0"
      ]
     },
     "execution_count": 16,
     "metadata": {},
     "output_type": "execute_result"
    }
   ],
   "source": [
    "multiple_nums('54, 75, 453, 0')"
   ]
  },
  {
   "cell_type": "markdown",
   "id": "b035e563",
   "metadata": {},
   "source": [
    "Question-03"
   ]
  },
  {
   "cell_type": "code",
   "execution_count": 25,
   "id": "cb66c6b7",
   "metadata": {},
   "outputs": [],
   "source": [
    "def square_digits(value):\n",
    "    str_value=str(value)\n",
    "    int_list = []\n",
    "    for i in str_value:\n",
    "        int_list.append(int(i))\n",
    "    result=''\n",
    "    running=0\n",
    "    for i in int_list:\n",
    "        running=i**2\n",
    "        result=result+str(running)\n",
    "    return int(result)\n",
    "        "
   ]
  },
  {
   "cell_type": "code",
   "execution_count": 26,
   "id": "440d3fa5",
   "metadata": {},
   "outputs": [
    {
     "data": {
      "text/plain": [
       "811181"
      ]
     },
     "execution_count": 26,
     "metadata": {},
     "output_type": "execute_result"
    }
   ],
   "source": [
    "square_digits(9119)"
   ]
  },
  {
   "cell_type": "code",
   "execution_count": 27,
   "id": "8bb97f33",
   "metadata": {},
   "outputs": [
    {
     "data": {
      "text/plain": [
       "416649"
      ]
     },
     "execution_count": 27,
     "metadata": {},
     "output_type": "execute_result"
    }
   ],
   "source": [
    "square_digits(2483)"
   ]
  },
  {
   "cell_type": "code",
   "execution_count": 28,
   "id": "99405a92",
   "metadata": {},
   "outputs": [
    {
     "data": {
      "text/plain": [
       "9414"
      ]
     },
     "execution_count": 28,
     "metadata": {},
     "output_type": "execute_result"
    }
   ],
   "source": [
    "square_digits(3212)"
   ]
  },
  {
   "cell_type": "markdown",
   "id": "4052a522",
   "metadata": {},
   "source": [
    "Question-04"
   ]
  },
  {
   "cell_type": "code",
   "execution_count": 36,
   "id": "bc58db85",
   "metadata": {},
   "outputs": [],
   "source": [
    "def setify(user_list):\n",
    "    user_set = set(user_list)\n",
    "    user_list_2 = list(user_set)\n",
    "    user_list_2.sort()\n",
    "    return user_list_2"
   ]
  },
  {
   "cell_type": "code",
   "execution_count": 37,
   "id": "9076a1b0",
   "metadata": {},
   "outputs": [
    {
     "data": {
      "text/plain": [
       "[1, 3, 5]"
      ]
     },
     "execution_count": 37,
     "metadata": {},
     "output_type": "execute_result"
    }
   ],
   "source": [
    "setify([1,3,3,5,5])"
   ]
  },
  {
   "cell_type": "code",
   "execution_count": 38,
   "id": "54ab3bb1",
   "metadata": {},
   "outputs": [
    {
     "data": {
      "text/plain": [
       "[4]"
      ]
     },
     "execution_count": 38,
     "metadata": {},
     "output_type": "execute_result"
    }
   ],
   "source": [
    "setify([4,4,4,4])"
   ]
  },
  {
   "cell_type": "markdown",
   "id": "9cc6ec93",
   "metadata": {},
   "source": [
    "Question-05"
   ]
  },
  {
   "cell_type": "code",
   "execution_count": 42,
   "id": "cb96aab5",
   "metadata": {},
   "outputs": [],
   "source": [
    "def mean(user):\n",
    "    user_string=str(user)\n",
    "    user_list = [int(i) for i in user_string]\n",
    "    total=0\n",
    "    length=len(user_list)\n",
    "    for i in user_list:\n",
    "        total=total+i\n",
    "    return int(total/length)"
   ]
  },
  {
   "cell_type": "code",
   "execution_count": 43,
   "id": "32eeb417",
   "metadata": {},
   "outputs": [
    {
     "data": {
      "text/plain": [
       "3"
      ]
     },
     "execution_count": 43,
     "metadata": {},
     "output_type": "execute_result"
    }
   ],
   "source": [
    "mean(42)"
   ]
  },
  {
   "cell_type": "code",
   "execution_count": 44,
   "id": "a7cf1cd9",
   "metadata": {},
   "outputs": [
    {
     "data": {
      "text/plain": [
       "3"
      ]
     },
     "execution_count": 44,
     "metadata": {},
     "output_type": "execute_result"
    }
   ],
   "source": [
    "mean(12345)"
   ]
  },
  {
   "cell_type": "code",
   "execution_count": 45,
   "id": "e64bf7b7",
   "metadata": {},
   "outputs": [
    {
     "data": {
      "text/plain": [
       "6"
      ]
     },
     "execution_count": 45,
     "metadata": {},
     "output_type": "execute_result"
    }
   ],
   "source": [
    "mean(666)"
   ]
  },
  {
   "cell_type": "code",
   "execution_count": null,
   "id": "de1b52c3",
   "metadata": {},
   "outputs": [],
   "source": []
  }
 ],
 "metadata": {
  "kernelspec": {
   "display_name": "Python 3 (ipykernel)",
   "language": "python",
   "name": "python3"
  },
  "language_info": {
   "codemirror_mode": {
    "name": "ipython",
    "version": 3
   },
   "file_extension": ".py",
   "mimetype": "text/x-python",
   "name": "python",
   "nbconvert_exporter": "python",
   "pygments_lexer": "ipython3",
   "version": "3.9.7"
  }
 },
 "nbformat": 4,
 "nbformat_minor": 5
}
