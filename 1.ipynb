{
 "cells": [
  {
   "cell_type": "markdown",
   "id": "1308b5e8",
   "metadata": {},
   "source": [
    "Question-01"
   ]
  },
  {
   "cell_type": "code",
   "execution_count": 65,
   "id": "34b358f6",
   "metadata": {},
   "outputs": [],
   "source": [
    "def count_elements(user_list):\n",
    "    dictionary = {\n",
    "        '#':5,\n",
    "        'O':3,\n",
    "        'X':1,\n",
    "        '!':-1,\n",
    "        '!!':-3,\n",
    "        '!!!':-5\n",
    "    }\n",
    "    \n",
    "    count1 = 0\n",
    "    count2 = 0\n",
    "    count3=0\n",
    "    count4=0\n",
    "    count5=0\n",
    "    count6=0\n",
    "    \n",
    "    for i in user_list:\n",
    "        for j in i:\n",
    "            if j == '#':\n",
    "                count1+=1\n",
    "            if j == 'O':\n",
    "                count2+=1\n",
    "            if j == 'X':\n",
    "                count3+=1\n",
    "            if j == '!':\n",
    "                count4+=1\n",
    "            if j == '!!':\n",
    "                count5+=1\n",
    "            if j == '!!!':\n",
    "                count6+=1\n",
    "                \n",
    "    if count1>0:\n",
    "        dictionary['#']=dictionary['#']*count1\n",
    "    \n",
    "    if count2>0:\n",
    "        dictionary['O']=dictionary['O']*count2\n",
    "    if count3>0:\n",
    "        dictionary['X']=dictionary['X']*count3\n",
    "    if count4>0:\n",
    "        dictionary['!']=dictionary['!']*count4\n",
    "    if count5>0:\n",
    "        dictionary['!!']=dictionary['!!']*count5\n",
    "    if count6>0:\n",
    "        dictionary['!!!'] = dictionary['!!!']*count6\n",
    "        \n",
    "    user_list_unpacking = []\n",
    "    \n",
    "    for i in user_list:\n",
    "        for j in i:\n",
    "            user_list_unpacking.append(j)\n",
    "            \n",
    "    result_summation = 0\n",
    "    \n",
    "    for i in user_list_unpacking:\n",
    "        if i in dictionary.keys():\n",
    "            result_summation = result_summation+dictionary[i]\n",
    "            \n",
    "    return result_summation if result_summation>0 else 0\n",
    "    \n",
    "   "
   ]
  },
  {
   "cell_type": "code",
   "execution_count": 66,
   "id": "ac16dd5f",
   "metadata": {},
   "outputs": [
    {
     "data": {
      "text/plain": [
       "2"
      ]
     },
     "execution_count": 66,
     "metadata": {},
     "output_type": "execute_result"
    }
   ],
   "source": [
    "count_elements([['#','!'],['!!','X']])"
   ]
  },
  {
   "cell_type": "code",
   "execution_count": 67,
   "id": "1140ef34",
   "metadata": {},
   "outputs": [
    {
     "data": {
      "text/plain": [
       "0"
      ]
     },
     "execution_count": 67,
     "metadata": {},
     "output_type": "execute_result"
    }
   ],
   "source": [
    "count_elements([['!!!','O','!'],['X','#','!!!'],['!!','X','O']])"
   ]
  },
  {
   "cell_type": "markdown",
   "id": "08cf5e0e",
   "metadata": {},
   "source": [
    "Question-02/"
   ]
  },
  {
   "cell_type": "code",
   "execution_count": 70,
   "id": "b0975f60",
   "metadata": {},
   "outputs": [],
   "source": [
    "def combinations(*args):\n",
    "    product=1\n",
    "    for i in args:\n",
    "        product=product*i\n",
    "    return product"
   ]
  },
  {
   "cell_type": "code",
   "execution_count": 71,
   "id": "41919943",
   "metadata": {},
   "outputs": [
    {
     "data": {
      "text/plain": [
       "120"
      ]
     },
     "execution_count": 71,
     "metadata": {},
     "output_type": "execute_result"
    }
   ],
   "source": [
    "combinations(1,2,3,4,5)"
   ]
  },
  {
   "cell_type": "code",
   "execution_count": 72,
   "id": "3e797dfd",
   "metadata": {},
   "outputs": [
    {
     "data": {
      "text/plain": [
       "84"
      ]
     },
     "execution_count": 72,
     "metadata": {},
     "output_type": "execute_result"
    }
   ],
   "source": [
    "combinations(3,7,4)"
   ]
  },
  {
   "cell_type": "code",
   "execution_count": 73,
   "id": "f6e04934",
   "metadata": {},
   "outputs": [
    {
     "data": {
      "text/plain": [
       "6"
      ]
     },
     "execution_count": 73,
     "metadata": {},
     "output_type": "execute_result"
    }
   ],
   "source": [
    "combinations(2,3)"
   ]
  },
  {
   "cell_type": "markdown",
   "id": "dfc2f032",
   "metadata": {},
   "source": [
    "Question-03"
   ]
  },
  {
   "cell_type": "code",
   "execution_count": 75,
   "id": "be69c16c",
   "metadata": {},
   "outputs": [],
   "source": [
    "char_to_dots = { 'A':'.-', 'B':'-...',\n",
    "                    'C':'-.-.', 'D':'-..', 'E':'.',\n",
    "                    'F':'..-.', 'G':'--.', 'H':'....',\n",
    "                    'I':'..', 'J':'.---', 'K':'-.-',\n",
    "                    'L':'.-..', 'M':'--', 'N':'-.',\n",
    "                    'O':'---', 'P':'.--.', 'Q':'--.-',\n",
    "                    'R':'.-.', 'S':'...', 'T':'-',\n",
    "                    'U':'..-', 'V':'...-', 'W':'.--',\n",
    "                    'X':'-..-', 'Y':'-.--', 'Z':'--..',\n",
    "                    '1':'.----', '2':'..---', '3':'...--',\n",
    "                    '4':'....-', '5':'.....', '6':'-....',\n",
    "                    '7':'--...', '8':'---..', '9':'----.',\n",
    "                    '0':'-----', ', ':'--..--', '.':'.-.-.-',\n",
    "                    '?':'..--..', '/':'-..-.', '-':'-....-',\n",
    "                    '(':'-.--.', ')':'-.--.-'}"
   ]
  },
  {
   "cell_type": "code",
   "execution_count": 86,
   "id": "14e4d529",
   "metadata": {},
   "outputs": [],
   "source": [
    "def encode_morse(user_string):\n",
    "    char_to_dots = { 'A':'.-', 'B':'-...',\n",
    "                    'C':'-.-.', 'D':'-..', 'E':'.',\n",
    "                    'F':'..-.', 'G':'--.', 'H':'....',\n",
    "                    'I':'..', 'J':'.---', 'K':'-.-',\n",
    "                    'L':'.-..', 'M':'--', 'N':'-.',\n",
    "                    'O':'---', 'P':'.--.', 'Q':'--.-',\n",
    "                    'R':'.-.', 'S':'...', 'T':'-',\n",
    "                    'U':'..-', 'V':'...-', 'W':'.--',\n",
    "                    'X':'-..-', 'Y':'-.--', 'Z':'--..',\n",
    "                    '1':'.----', '2':'..---', '3':'...--',\n",
    "                    '4':'....-', '5':'.....', '6':'-....',\n",
    "                    '7':'--...', '8':'---..', '9':'----.',\n",
    "                    '0':'-----', ', ':'--..--', '.':'.-.-.-',\n",
    "                    '?':'..--..', '/':'-..-.', '-':'-....-',\n",
    "                    '(':'-.--.', ')':'-.--.-'}\n",
    "    result = ''\n",
    "    for i in user_string:\n",
    "        if i in char_to_dots.keys():\n",
    "            result=result+char_to_dots[i]\n",
    "        else:\n",
    "            result=result+''\n",
    "            \n",
    "    return result\n",
    "    "
   ]
  },
  {
   "cell_type": "code",
   "execution_count": 88,
   "id": "5e5a2259",
   "metadata": {},
   "outputs": [
    {
     "data": {
      "text/plain": [
       "'......-...--.--.'"
      ]
     },
     "execution_count": 88,
     "metadata": {},
     "output_type": "execute_result"
    }
   ],
   "source": [
    "encode_morse(\"HELP ME !\")"
   ]
  },
  {
   "cell_type": "markdown",
   "id": "b475457a",
   "metadata": {},
   "source": [
    "Question-04"
   ]
  },
  {
   "cell_type": "code",
   "execution_count": 109,
   "id": "24a99fa8",
   "metadata": {},
   "outputs": [],
   "source": [
    "def prime_checker(user_number):\n",
    "    if user_number == 1:\n",
    "        return False\n",
    "    counter = []\n",
    "    for i in range(1,user_number+1):\n",
    "        if user_number%i == 0:\n",
    "            counter.append(i)\n",
    "        else:\n",
    "            continue\n",
    "    print(counter)        \n",
    "    return False if len(counter) > 2 else True\n",
    "    \n",
    "            "
   ]
  },
  {
   "cell_type": "code",
   "execution_count": 111,
   "id": "a583ba78",
   "metadata": {},
   "outputs": [
    {
     "name": "stdout",
     "output_type": "stream",
     "text": [
      "[1, 2, 4, 8]\n"
     ]
    },
    {
     "data": {
      "text/plain": [
       "False"
      ]
     },
     "execution_count": 111,
     "metadata": {},
     "output_type": "execute_result"
    }
   ],
   "source": [
    "prime_checker(8)"
   ]
  },
  {
   "cell_type": "markdown",
   "id": "ce641ba2",
   "metadata": {},
   "source": [
    "Question-05"
   ]
  },
  {
   "cell_type": "code",
   "execution_count": 113,
   "id": "a39cca5d",
   "metadata": {},
   "outputs": [],
   "source": [
    "def to_boolean_list(user_string):\n",
    "    result = [False if ord(i)%2 == 0 else True for i in user_string]\n",
    "    return result"
   ]
  },
  {
   "cell_type": "code",
   "execution_count": 114,
   "id": "d3911bd3",
   "metadata": {},
   "outputs": [
    {
     "data": {
      "text/plain": [
       "[False, True, True, False]"
      ]
     },
     "execution_count": 114,
     "metadata": {},
     "output_type": "execute_result"
    }
   ],
   "source": [
    "to_boolean_list('deep')"
   ]
  },
  {
   "cell_type": "code",
   "execution_count": 115,
   "id": "feb3a37b",
   "metadata": {},
   "outputs": [
    {
     "data": {
      "text/plain": [
       "[False, True, False, True, True]"
      ]
     },
     "execution_count": 115,
     "metadata": {},
     "output_type": "execute_result"
    }
   ],
   "source": [
    "to_boolean_list('loves')"
   ]
  },
  {
   "cell_type": "code",
   "execution_count": 116,
   "id": "37b2d3aa",
   "metadata": {},
   "outputs": [
    {
     "data": {
      "text/plain": [
       "[False, True, True, False]"
      ]
     },
     "execution_count": 116,
     "metadata": {},
     "output_type": "execute_result"
    }
   ],
   "source": [
    "to_boolean_list('tesh')"
   ]
  },
  {
   "cell_type": "code",
   "execution_count": null,
   "id": "8d1fa702",
   "metadata": {},
   "outputs": [],
   "source": []
  }
 ],
 "metadata": {
  "kernelspec": {
   "display_name": "Python 3 (ipykernel)",
   "language": "python",
   "name": "python3"
  },
  "language_info": {
   "codemirror_mode": {
    "name": "ipython",
    "version": 3
   },
   "file_extension": ".py",
   "mimetype": "text/x-python",
   "name": "python",
   "nbconvert_exporter": "python",
   "pygments_lexer": "ipython3",
   "version": "3.9.7"
  }
 },
 "nbformat": 4,
 "nbformat_minor": 5
}
