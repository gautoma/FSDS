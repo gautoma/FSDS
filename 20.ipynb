{
 "cells": [
  {
   "cell_type": "markdown",
   "id": "80609ac1",
   "metadata": {},
   "source": [
    "Question-01"
   ]
  },
  {
   "cell_type": "code",
   "execution_count": 43,
   "id": "c82eaa33",
   "metadata": {},
   "outputs": [],
   "source": [
    "def filter_list(user_list):\n",
    "    empty_list=[]\n",
    "    int_list = []\n",
    "    for i in user_list:\n",
    "        if type(i) == int:\n",
    "            empty_list.append('X')\n",
    "            int_list.append(i)\n",
    "        else:\n",
    "            empty_list.append('O')\n",
    "    if 'X' in empty_list:\n",
    "        return int_list\n",
    "    else:\n",
    "        return list()"
   ]
  },
  {
   "cell_type": "code",
   "execution_count": 44,
   "id": "34a49f2b",
   "metadata": {},
   "outputs": [
    {
     "data": {
      "text/plain": [
       "[]"
      ]
     },
     "execution_count": 44,
     "metadata": {},
     "output_type": "execute_result"
    }
   ],
   "source": [
    "filter_list(['a','b'])"
   ]
  },
  {
   "cell_type": "code",
   "execution_count": 45,
   "id": "43ddc810",
   "metadata": {},
   "outputs": [
    {
     "data": {
      "text/plain": [
       "[0, 1729]"
      ]
     },
     "execution_count": 45,
     "metadata": {},
     "output_type": "execute_result"
    }
   ],
   "source": [
    "filter_list(['A',0,'Edabit',1729,'Python','1729'])"
   ]
  },
  {
   "cell_type": "code",
   "execution_count": 47,
   "id": "fc9fe6cd",
   "metadata": {},
   "outputs": [
    {
     "data": {
      "text/plain": [
       "[]"
      ]
     },
     "execution_count": 47,
     "metadata": {},
     "output_type": "execute_result"
    }
   ],
   "source": [
    "filter_list(['Nothing','Here'])"
   ]
  },
  {
   "cell_type": "markdown",
   "id": "f09a6d77",
   "metadata": {},
   "source": [
    "Question-02"
   ]
  },
  {
   "cell_type": "code",
   "execution_count": 48,
   "id": "cf177efd",
   "metadata": {},
   "outputs": [],
   "source": [
    "def add_indexes(user_input):\n",
    "    summation = []\n",
    "    for i in range(len(user_input)):\n",
    "        summation.append(i+user_input[i])\n",
    "    return summation"
   ]
  },
  {
   "cell_type": "code",
   "execution_count": 49,
   "id": "398b552d",
   "metadata": {},
   "outputs": [
    {
     "data": {
      "text/plain": [
       "[0, 1, 2, 3, 4]"
      ]
     },
     "execution_count": 49,
     "metadata": {},
     "output_type": "execute_result"
    }
   ],
   "source": [
    "add_indexes([0,0,0,0,0])"
   ]
  },
  {
   "cell_type": "code",
   "execution_count": 50,
   "id": "fe4e2091",
   "metadata": {},
   "outputs": [
    {
     "data": {
      "text/plain": [
       "[1, 3, 5, 7, 9]"
      ]
     },
     "execution_count": 50,
     "metadata": {},
     "output_type": "execute_result"
    }
   ],
   "source": [
    "add_indexes([1,2,3,4,5])"
   ]
  },
  {
   "cell_type": "code",
   "execution_count": 51,
   "id": "a2e6898e",
   "metadata": {},
   "outputs": [
    {
     "data": {
      "text/plain": [
       "[5, 5, 5, 5, 5]"
      ]
     },
     "execution_count": 51,
     "metadata": {},
     "output_type": "execute_result"
    }
   ],
   "source": [
    "add_indexes([5,4,3,2,1])"
   ]
  },
  {
   "cell_type": "markdown",
   "id": "b036c210",
   "metadata": {},
   "source": [
    "Question-03"
   ]
  },
  {
   "cell_type": "code",
   "execution_count": 52,
   "id": "4f7a89d9",
   "metadata": {},
   "outputs": [],
   "source": [
    "def cone_volume(height,radius):\n",
    "    return round(((1/3)*(3.14)*(radius**2)*height),2)"
   ]
  },
  {
   "cell_type": "code",
   "execution_count": 53,
   "id": "90d56133",
   "metadata": {},
   "outputs": [
    {
     "data": {
      "text/plain": [
       "12.56"
      ]
     },
     "execution_count": 53,
     "metadata": {},
     "output_type": "execute_result"
    }
   ],
   "source": [
    "cone_volume(3,2)"
   ]
  },
  {
   "cell_type": "code",
   "execution_count": 54,
   "id": "df31ca26",
   "metadata": {},
   "outputs": [
    {
     "data": {
      "text/plain": [
       "565.2"
      ]
     },
     "execution_count": 54,
     "metadata": {},
     "output_type": "execute_result"
    }
   ],
   "source": [
    "cone_volume(15,6)"
   ]
  },
  {
   "cell_type": "markdown",
   "id": "67072d19",
   "metadata": {},
   "source": [
    "Question-04"
   ]
  },
  {
   "cell_type": "code",
   "execution_count": 55,
   "id": "c79cbb08",
   "metadata": {},
   "outputs": [],
   "source": [
    "def missing_num(user_input):\n",
    "    flag=0\n",
    "    for i in range(1,11):\n",
    "        if i in user_input:\n",
    "            continue\n",
    "        else:\n",
    "            flag = i\n",
    "    return flag\n",
    "            "
   ]
  },
  {
   "cell_type": "code",
   "execution_count": 56,
   "id": "bce89212",
   "metadata": {},
   "outputs": [
    {
     "data": {
      "text/plain": [
       "5"
      ]
     },
     "execution_count": 56,
     "metadata": {},
     "output_type": "execute_result"
    }
   ],
   "source": [
    "missing_num([1,2,3,4,6,7,8,9,10])"
   ]
  },
  {
   "cell_type": "code",
   "execution_count": 57,
   "id": "663d764a",
   "metadata": {},
   "outputs": [
    {
     "data": {
      "text/plain": [
       "10"
      ]
     },
     "execution_count": 57,
     "metadata": {},
     "output_type": "execute_result"
    }
   ],
   "source": [
    "missing_num([7,2,3,6,5,9,1,4,8])"
   ]
  },
  {
   "cell_type": "code",
   "execution_count": 58,
   "id": "232a7c1c",
   "metadata": {},
   "outputs": [
    {
     "data": {
      "text/plain": [
       "7"
      ]
     },
     "execution_count": 58,
     "metadata": {},
     "output_type": "execute_result"
    }
   ],
   "source": [
    "missing_num([10,5,1,2,4,6,8,3,9])"
   ]
  },
  {
   "cell_type": "markdown",
   "id": "03d097ab",
   "metadata": {},
   "source": [
    "Question-04"
   ]
  },
  {
   "cell_type": "code",
   "execution_count": 61,
   "id": "43739b58",
   "metadata": {},
   "outputs": [],
   "source": [
    "def triangle(value):\n",
    "    return round((value*(value+1))//2)"
   ]
  },
  {
   "cell_type": "code",
   "execution_count": 62,
   "id": "077042fa",
   "metadata": {},
   "outputs": [
    {
     "data": {
      "text/plain": [
       "1"
      ]
     },
     "execution_count": 62,
     "metadata": {},
     "output_type": "execute_result"
    }
   ],
   "source": [
    "triangle(1)"
   ]
  },
  {
   "cell_type": "code",
   "execution_count": 63,
   "id": "bd9bcc83",
   "metadata": {},
   "outputs": [
    {
     "data": {
      "text/plain": [
       "21"
      ]
     },
     "execution_count": 63,
     "metadata": {},
     "output_type": "execute_result"
    }
   ],
   "source": [
    "triangle(6)"
   ]
  },
  {
   "cell_type": "code",
   "execution_count": 64,
   "id": "a178fa03",
   "metadata": {},
   "outputs": [
    {
     "data": {
      "text/plain": [
       "23220"
      ]
     },
     "execution_count": 64,
     "metadata": {},
     "output_type": "execute_result"
    }
   ],
   "source": [
    "triangle(215)"
   ]
  },
  {
   "cell_type": "code",
   "execution_count": null,
   "id": "d54e9876",
   "metadata": {},
   "outputs": [],
   "source": []
  }
 ],
 "metadata": {
  "kernelspec": {
   "display_name": "Python 3 (ipykernel)",
   "language": "python",
   "name": "python3"
  },
  "language_info": {
   "codemirror_mode": {
    "name": "ipython",
    "version": 3
   },
   "file_extension": ".py",
   "mimetype": "text/x-python",
   "name": "python",
   "nbconvert_exporter": "python",
   "pygments_lexer": "ipython3",
   "version": "3.9.7"
  }
 },
 "nbformat": 4,
 "nbformat_minor": 5
}
