{
 "cells": [
  {
   "cell_type": "markdown",
   "id": "71175090",
   "metadata": {},
   "source": [
    "Question-01"
   ]
  },
  {
   "cell_type": "code",
   "execution_count": 25,
   "id": "4622b03d",
   "metadata": {},
   "outputs": [],
   "source": [
    "def equal(a:int,b:int,c:int):\n",
    "    if a==b==c:\n",
    "        return 3\n",
    "    elif a==b or b==c or a==c:\n",
    "        return 2\n",
    "    elif a!=b!=c:\n",
    "        return 0"
   ]
  },
  {
   "cell_type": "code",
   "execution_count": 26,
   "id": "4cef1e55",
   "metadata": {},
   "outputs": [
    {
     "data": {
      "text/plain": [
       "0"
      ]
     },
     "execution_count": 26,
     "metadata": {},
     "output_type": "execute_result"
    }
   ],
   "source": [
    "equal(3,1,0)"
   ]
  },
  {
   "cell_type": "markdown",
   "id": "e5d45e11",
   "metadata": {},
   "source": [
    "Question-02"
   ]
  },
  {
   "cell_type": "code",
   "execution_count": 34,
   "id": "60ebd307",
   "metadata": {},
   "outputs": [
    {
     "name": "stdout",
     "output_type": "stream",
     "text": [
      "[('dislikes', 3), ('followers', 10), ('likes', 2)]\n"
     ]
    }
   ],
   "source": [
    "dic = {\n",
    "    'likes':2,\n",
    "    'dislikes':3,\n",
    "    'followers':10\n",
    "}\n",
    "\n",
    "empty = []\n",
    "\n",
    "for i in sorted(dic.keys()):\n",
    "    empty.append((i,dic[i]))\n",
    "\n",
    "print(empty)    \n"
   ]
  },
  {
   "cell_type": "markdown",
   "id": "332e6a68",
   "metadata": {},
   "source": [
    "Question-03"
   ]
  },
  {
   "cell_type": "code",
   "execution_count": 37,
   "id": "b0c4667c",
   "metadata": {},
   "outputs": [],
   "source": [
    "def mapping(to_be_converted:list):\n",
    "    return {i:i.upper() for i in to_be_converted}"
   ]
  },
  {
   "cell_type": "code",
   "execution_count": 38,
   "id": "c241f6d9",
   "metadata": {},
   "outputs": [
    {
     "data": {
      "text/plain": [
       "{'p': 'P', 's': 'S'}"
      ]
     },
     "execution_count": 38,
     "metadata": {},
     "output_type": "execute_result"
    }
   ],
   "source": [
    "mapping(['p','s'])"
   ]
  },
  {
   "cell_type": "code",
   "execution_count": 39,
   "id": "f1bdd05b",
   "metadata": {},
   "outputs": [
    {
     "data": {
      "text/plain": [
       "{'a': 'A', 'v': 'V', 'y': 'Y', 'z': 'Z'}"
      ]
     },
     "execution_count": 39,
     "metadata": {},
     "output_type": "execute_result"
    }
   ],
   "source": [
    "mapping(['a','v','y','z'])"
   ]
  },
  {
   "cell_type": "code",
   "execution_count": 40,
   "id": "24a33236",
   "metadata": {},
   "outputs": [
    {
     "data": {
      "text/plain": [
       "{'a': 'A', 'b': 'B', 'c': 'C'}"
      ]
     },
     "execution_count": 40,
     "metadata": {},
     "output_type": "execute_result"
    }
   ],
   "source": [
    "mapping(['a','b','c'])"
   ]
  },
  {
   "cell_type": "markdown",
   "id": "6c9e0eb7",
   "metadata": {},
   "source": [
    "Question-04"
   ]
  },
  {
   "cell_type": "code",
   "execution_count": 51,
   "id": "32ea7d40",
   "metadata": {},
   "outputs": [],
   "source": [
    "def vow_replace(string:str,replacement:str):\n",
    "    vowels = 'aeiou'\n",
    "    empty_string = ''\n",
    "    \n",
    "    for i in string:\n",
    "        if i in vowels:\n",
    "            string = string.replace(i,replacement)\n",
    "        else:\n",
    "            continue\n",
    "            \n",
    "    return string\n",
    "\n",
    "\n",
    "    "
   ]
  },
  {
   "cell_type": "code",
   "execution_count": 52,
   "id": "d2124ce1",
   "metadata": {},
   "outputs": [
    {
     "data": {
      "text/plain": [
       "'upplus und bununus'"
      ]
     },
     "execution_count": 52,
     "metadata": {},
     "output_type": "execute_result"
    }
   ],
   "source": [
    "vow_replace('apples and bananas','u')"
   ]
  },
  {
   "cell_type": "code",
   "execution_count": 53,
   "id": "006f71b2",
   "metadata": {},
   "outputs": [
    {
     "data": {
      "text/plain": [
       "'chooso cossorolo'"
      ]
     },
     "execution_count": 53,
     "metadata": {},
     "output_type": "execute_result"
    }
   ],
   "source": [
    "vow_replace('cheese casserole','o')"
   ]
  },
  {
   "cell_type": "code",
   "execution_count": 54,
   "id": "f9182c4e",
   "metadata": {},
   "outputs": [
    {
     "data": {
      "text/plain": [
       "'steffed jelepene peppers'"
      ]
     },
     "execution_count": 54,
     "metadata": {},
     "output_type": "execute_result"
    }
   ],
   "source": [
    "vow_replace('stuffed jalapeno poppers','e')"
   ]
  },
  {
   "cell_type": "markdown",
   "id": "6c85e480",
   "metadata": {},
   "source": [
    "Question-05"
   ]
  },
  {
   "cell_type": "code",
   "execution_count": 59,
   "id": "3b2c3ff5",
   "metadata": {},
   "outputs": [],
   "source": [
    "def ascii_capitalize(string:str):\n",
    "    for i in range(len(string)):\n",
    "        if ord(string[i])%2 == 0:\n",
    "            string = string.replace(string[i],string[i].capitalize())\n",
    "        else:\n",
    "            string = string.replace(string[i],string[i].lower())\n",
    "            \n",
    "    return string\n",
    "\n"
   ]
  },
  {
   "cell_type": "code",
   "execution_count": 60,
   "id": "968d5709",
   "metadata": {},
   "outputs": [
    {
     "data": {
      "text/plain": [
       "'THe LiTTLe meRmaiD'"
      ]
     },
     "execution_count": 60,
     "metadata": {},
     "output_type": "execute_result"
    }
   ],
   "source": [
    "ascii_capitalize('THE LITTLE MERMAID')"
   ]
  },
  {
   "cell_type": "code",
   "execution_count": 61,
   "id": "f0a2cd91",
   "metadata": {},
   "outputs": [
    {
     "data": {
      "text/plain": [
       "'oH wHaT a BeauTiFuL moRNiNg.'"
      ]
     },
     "execution_count": 61,
     "metadata": {},
     "output_type": "execute_result"
    }
   ],
   "source": [
    "ascii_capitalize('Oh what a beautiful morning.')"
   ]
  },
  {
   "cell_type": "code",
   "execution_count": 62,
   "id": "949ac7d6",
   "metadata": {},
   "outputs": [
    {
     "data": {
      "text/plain": [
       "'To Be oR To Be!'"
      ]
     },
     "execution_count": 62,
     "metadata": {},
     "output_type": "execute_result"
    }
   ],
   "source": [
    "ascii_capitalize('to be or to be!')"
   ]
  },
  {
   "cell_type": "code",
   "execution_count": null,
   "id": "328ac71b",
   "metadata": {},
   "outputs": [],
   "source": []
  }
 ],
 "metadata": {
  "kernelspec": {
   "display_name": "Python 3 (ipykernel)",
   "language": "python",
   "name": "python3"
  },
  "language_info": {
   "codemirror_mode": {
    "name": "ipython",
    "version": 3
   },
   "file_extension": ".py",
   "mimetype": "text/x-python",
   "name": "python",
   "nbconvert_exporter": "python",
   "pygments_lexer": "ipython3",
   "version": "3.9.7"
  }
 },
 "nbformat": 4,
 "nbformat_minor": 5
}
