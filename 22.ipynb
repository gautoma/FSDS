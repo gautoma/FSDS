{
 "cells": [
  {
   "cell_type": "markdown",
   "id": "86bcafe2",
   "metadata": {},
   "source": [
    "Question-01"
   ]
  },
  {
   "cell_type": "code",
   "execution_count": 3,
   "id": "74cd10b5",
   "metadata": {},
   "outputs": [],
   "source": [
    "def list_operation(start,end,divisor):\n",
    "    return [i for i in range(start,end+1) if i%divisor==0]"
   ]
  },
  {
   "cell_type": "code",
   "execution_count": 4,
   "id": "732201c8",
   "metadata": {},
   "outputs": [
    {
     "data": {
      "text/plain": [
       "[3, 6, 9]"
      ]
     },
     "execution_count": 4,
     "metadata": {},
     "output_type": "execute_result"
    }
   ],
   "source": [
    "list_operation(1,10,3)"
   ]
  },
  {
   "cell_type": "code",
   "execution_count": 5,
   "id": "2460223e",
   "metadata": {},
   "outputs": [
    {
     "data": {
      "text/plain": [
       "[8]"
      ]
     },
     "execution_count": 5,
     "metadata": {},
     "output_type": "execute_result"
    }
   ],
   "source": [
    "list_operation(7,9, 2)"
   ]
  },
  {
   "cell_type": "code",
   "execution_count": 6,
   "id": "a801d534",
   "metadata": {},
   "outputs": [
    {
     "data": {
      "text/plain": [
       "[]"
      ]
     },
     "execution_count": 6,
     "metadata": {},
     "output_type": "execute_result"
    }
   ],
   "source": [
    "list_operation(15,20,7)"
   ]
  },
  {
   "cell_type": "code",
   "execution_count": 14,
   "id": "7b77e308",
   "metadata": {},
   "outputs": [
    {
     "data": {
      "text/plain": [
       "['Adam', 'Biew', 'Cynt']"
      ]
     },
     "execution_count": 14,
     "metadata": {},
     "output_type": "execute_result"
    }
   ],
   "source": [
    "sorted(['Adam','Cynt','Biew'])"
   ]
  },
  {
   "cell_type": "markdown",
   "id": "bdeb1c54",
   "metadata": {},
   "source": [
    "Question-03"
   ]
  },
  {
   "cell_type": "code",
   "execution_count": 38,
   "id": "d3af5a6b",
   "metadata": {},
   "outputs": [],
   "source": [
    "def society_name(user_list):\n",
    "    empty = user_list\n",
    "    empty.sort(key=len)\n",
    "    result=''\n",
    "    for i in empty:\n",
    "        result=result+i[0]\n",
    "    return result\n",
    "   "
   ]
  },
  {
   "cell_type": "code",
   "execution_count": 39,
   "id": "3640ce10",
   "metadata": {},
   "outputs": [
    {
     "data": {
      "text/plain": [
       "'ASM'"
      ]
     },
     "execution_count": 39,
     "metadata": {},
     "output_type": "execute_result"
    }
   ],
   "source": [
    "society_name(['Adam','Sarah','Malcolm'])"
   ]
  },
  {
   "cell_type": "code",
   "execution_count": 40,
   "id": "61eb8be2",
   "metadata": {},
   "outputs": [
    {
     "data": {
      "text/plain": [
       "'CNLH'"
      ]
     },
     "execution_count": 40,
     "metadata": {},
     "output_type": "execute_result"
    }
   ],
   "source": [
    "society_name(['Harry','Newt','Luna','Cho'])"
   ]
  },
  {
   "cell_type": "code",
   "execution_count": 41,
   "id": "4fe03661",
   "metadata": {},
   "outputs": [
    {
     "data": {
      "text/plain": [
       "'RJPRMC'"
      ]
     },
     "execution_count": 41,
     "metadata": {},
     "output_type": "execute_result"
    }
   ],
   "source": [
    "society_name(['Phoebe','Chandler','Rachel','Ross','Monica','Joey'])"
   ]
  },
  {
   "cell_type": "markdown",
   "id": "c3e025d9",
   "metadata": {},
   "source": [
    "Question-04"
   ]
  },
  {
   "cell_type": "code",
   "execution_count": 135,
   "id": "cb04edb8",
   "metadata": {},
   "outputs": [],
   "source": [
    "def isogram(user_input):\n",
    "    result = user_input.lower()\n",
    "    dictionary = {i:result.count(i) for i in result}\n",
    "    for i in sorted(dictionary.values(),reverse=True):\n",
    "        if i > 1:\n",
    "            return False\n",
    "        else:\n",
    "            return True\n"
   ]
  },
  {
   "cell_type": "code",
   "execution_count": 183,
   "id": "87ffcd48",
   "metadata": {},
   "outputs": [
    {
     "data": {
      "text/plain": [
       "True"
      ]
     },
     "execution_count": 183,
     "metadata": {},
     "output_type": "execute_result"
    }
   ],
   "source": [
    "isogram('Algorism')"
   ]
  },
  {
   "cell_type": "code",
   "execution_count": 184,
   "id": "c8b2c0f9",
   "metadata": {},
   "outputs": [
    {
     "data": {
      "text/plain": [
       "False"
      ]
     },
     "execution_count": 184,
     "metadata": {},
     "output_type": "execute_result"
    }
   ],
   "source": [
    "isogram('PasSword')"
   ]
  },
  {
   "cell_type": "code",
   "execution_count": 185,
   "id": "709ad3ef",
   "metadata": {},
   "outputs": [
    {
     "data": {
      "text/plain": [
       "False"
      ]
     },
     "execution_count": 185,
     "metadata": {},
     "output_type": "execute_result"
    }
   ],
   "source": [
    "isogram('Consecutive')"
   ]
  },
  {
   "cell_type": "markdown",
   "id": "cf0c8554",
   "metadata": {},
   "source": [
    "Question-05"
   ]
  },
  {
   "cell_type": "code",
   "execution_count": 178,
   "id": "ef212539",
   "metadata": {},
   "outputs": [],
   "source": [
    "def is_in_order(user):\n",
    "    empty = []\n",
    "    for i in user:\n",
    "        empty.append(i)\n",
    "    kew = []\n",
    "    for i in sorted(empty):\n",
    "        kew.append(i)\n",
    "    if empty == kew:\n",
    "        return True\n",
    "    else:\n",
    "        return False"
   ]
  },
  {
   "cell_type": "code",
   "execution_count": 179,
   "id": "90213975",
   "metadata": {},
   "outputs": [
    {
     "data": {
      "text/plain": [
       "True"
      ]
     },
     "execution_count": 179,
     "metadata": {},
     "output_type": "execute_result"
    }
   ],
   "source": [
    "is_in_order('abc')"
   ]
  },
  {
   "cell_type": "code",
   "execution_count": 180,
   "id": "1800c408",
   "metadata": {},
   "outputs": [
    {
     "data": {
      "text/plain": [
       "False"
      ]
     },
     "execution_count": 180,
     "metadata": {},
     "output_type": "execute_result"
    }
   ],
   "source": [
    "is_in_order('edabit')"
   ]
  },
  {
   "cell_type": "code",
   "execution_count": 181,
   "id": "8e3466ed",
   "metadata": {},
   "outputs": [
    {
     "data": {
      "text/plain": [
       "True"
      ]
     },
     "execution_count": 181,
     "metadata": {},
     "output_type": "execute_result"
    }
   ],
   "source": [
    "is_in_order('123')"
   ]
  },
  {
   "cell_type": "code",
   "execution_count": 182,
   "id": "945e539b",
   "metadata": {},
   "outputs": [
    {
     "data": {
      "text/plain": [
       "True"
      ]
     },
     "execution_count": 182,
     "metadata": {},
     "output_type": "execute_result"
    }
   ],
   "source": [
    "is_in_order('xyzz')"
   ]
  },
  {
   "cell_type": "code",
   "execution_count": 188,
   "id": "07196b14",
   "metadata": {},
   "outputs": [
    {
     "data": {
      "text/plain": [
       "[False, True, False]"
      ]
     },
     "execution_count": 188,
     "metadata": {},
     "output_type": "execute_result"
    }
   ],
   "source": [
    "[True if i in [2,6,4] else False for i in [1,2,3]]"
   ]
  },
  {
   "cell_type": "markdown",
   "id": "765662a0",
   "metadata": {},
   "source": [
    "Question-02"
   ]
  },
  {
   "cell_type": "code",
   "execution_count": 198,
   "id": "d3bf7b4d",
   "metadata": {},
   "outputs": [],
   "source": [
    "def simon_says(input1,input2):\n",
    "    user1,user2 = input1,input2\n",
    "    resultant = [True if i in user2 else False  for i in user1]\n",
    "    \n",
    "    return True if True in resultant else False"
   ]
  },
  {
   "cell_type": "code",
   "execution_count": 199,
   "id": "f16404f0",
   "metadata": {},
   "outputs": [
    {
     "data": {
      "text/plain": [
       "True"
      ]
     },
     "execution_count": 199,
     "metadata": {},
     "output_type": "execute_result"
    }
   ],
   "source": [
    "simon_says([1,2],[5,1])"
   ]
  },
  {
   "cell_type": "code",
   "execution_count": 200,
   "id": "f730a25d",
   "metadata": {},
   "outputs": [
    {
     "data": {
      "text/plain": [
       "False"
      ]
     },
     "execution_count": 200,
     "metadata": {},
     "output_type": "execute_result"
    }
   ],
   "source": [
    "simon_says([1,2],[5,5])"
   ]
  },
  {
   "cell_type": "code",
   "execution_count": 201,
   "id": "4de964ae",
   "metadata": {},
   "outputs": [
    {
     "data": {
      "text/plain": [
       "True"
      ]
     },
     "execution_count": 201,
     "metadata": {},
     "output_type": "execute_result"
    }
   ],
   "source": [
    "simon_says([1,2,3,4,5],[0,1,2,3,4])"
   ]
  },
  {
   "cell_type": "code",
   "execution_count": 202,
   "id": "19ee5a8c",
   "metadata": {},
   "outputs": [
    {
     "data": {
      "text/plain": [
       "True"
      ]
     },
     "execution_count": 202,
     "metadata": {},
     "output_type": "execute_result"
    }
   ],
   "source": [
    "simon_says([1,2,3,4,5],[5,5,1,2,3])"
   ]
  },
  {
   "cell_type": "code",
   "execution_count": null,
   "id": "11513e6e",
   "metadata": {},
   "outputs": [],
   "source": []
  }
 ],
 "metadata": {
  "kernelspec": {
   "display_name": "Python 3 (ipykernel)",
   "language": "python",
   "name": "python3"
  },
  "language_info": {
   "codemirror_mode": {
    "name": "ipython",
    "version": 3
   },
   "file_extension": ".py",
   "mimetype": "text/x-python",
   "name": "python",
   "nbconvert_exporter": "python",
   "pygments_lexer": "ipython3",
   "version": "3.9.7"
  }
 },
 "nbformat": 4,
 "nbformat_minor": 5
}
