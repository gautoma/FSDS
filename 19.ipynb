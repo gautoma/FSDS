{
 "cells": [
  {
   "cell_type": "markdown",
   "id": "3c36b8c2",
   "metadata": {},
   "source": [
    "Question-01"
   ]
  },
  {
   "cell_type": "code",
   "execution_count": 8,
   "id": "093667da",
   "metadata": {},
   "outputs": [],
   "source": [
    "def double_char(user_string):\n",
    "    first_list = [i*2 if i.isspace()==False else i for i in user_string ]\n",
    "    return ''.join(first_list)"
   ]
  },
  {
   "cell_type": "code",
   "execution_count": 9,
   "id": "fcdd5a0c",
   "metadata": {},
   "outputs": [
    {
     "data": {
      "text/plain": [
       "'SSttrriinngg'"
      ]
     },
     "execution_count": 9,
     "metadata": {},
     "output_type": "execute_result"
    }
   ],
   "source": [
    "double_char('String')"
   ]
  },
  {
   "cell_type": "code",
   "execution_count": 10,
   "id": "2ade410b",
   "metadata": {},
   "outputs": [
    {
     "data": {
      "text/plain": [
       "'HHeelllloo WWoorrlldd'"
      ]
     },
     "execution_count": 10,
     "metadata": {},
     "output_type": "execute_result"
    }
   ],
   "source": [
    "double_char('Hello World')"
   ]
  },
  {
   "cell_type": "code",
   "execution_count": 11,
   "id": "c05b3e0a",
   "metadata": {},
   "outputs": [
    {
     "data": {
      "text/plain": [
       "'11223344!!__'"
      ]
     },
     "execution_count": 11,
     "metadata": {},
     "output_type": "execute_result"
    }
   ],
   "source": [
    "double_char('1234!_')"
   ]
  },
  {
   "cell_type": "markdown",
   "id": "231120f5",
   "metadata": {},
   "source": [
    "Question-02"
   ]
  },
  {
   "cell_type": "code",
   "execution_count": 39,
   "id": "ed6db992",
   "metadata": {},
   "outputs": [],
   "source": [
    "def reverse(user):\n",
    "    if type(user)!= bool:\n",
    "        return 'Boolean Expected'\n",
    "    return True if user==False else False\n",
    "    "
   ]
  },
  {
   "cell_type": "code",
   "execution_count": 40,
   "id": "d5e90868",
   "metadata": {},
   "outputs": [
    {
     "data": {
      "text/plain": [
       "False"
      ]
     },
     "execution_count": 40,
     "metadata": {},
     "output_type": "execute_result"
    }
   ],
   "source": [
    "reverse(True)"
   ]
  },
  {
   "cell_type": "code",
   "execution_count": 41,
   "id": "e2a85344",
   "metadata": {},
   "outputs": [
    {
     "data": {
      "text/plain": [
       "True"
      ]
     },
     "execution_count": 41,
     "metadata": {},
     "output_type": "execute_result"
    }
   ],
   "source": [
    "reverse(False)"
   ]
  },
  {
   "cell_type": "code",
   "execution_count": 42,
   "id": "4f745047",
   "metadata": {},
   "outputs": [
    {
     "data": {
      "text/plain": [
       "'Boolean Expected'"
      ]
     },
     "execution_count": 42,
     "metadata": {},
     "output_type": "execute_result"
    }
   ],
   "source": [
    "reverse(0)"
   ]
  },
  {
   "cell_type": "code",
   "execution_count": 43,
   "id": "94629444",
   "metadata": {},
   "outputs": [
    {
     "data": {
      "text/plain": [
       "'Boolean Expected'"
      ]
     },
     "execution_count": 43,
     "metadata": {},
     "output_type": "execute_result"
    }
   ],
   "source": [
    "reverse(None)"
   ]
  },
  {
   "cell_type": "markdown",
   "id": "9efefd51",
   "metadata": {},
   "source": [
    "Question-04"
   ]
  },
  {
   "cell_type": "code",
   "execution_count": 25,
   "id": "7a4c78f9",
   "metadata": {},
   "outputs": [],
   "source": [
    "def index_of_caps(user):\n",
    "    empty = []\n",
    "    for i in range(len(user)):\n",
    "        if user[i].isupper() == True:\n",
    "            empty.append(i)\n",
    "        else:\n",
    "            list()\n",
    "    return empty"
   ]
  },
  {
   "cell_type": "code",
   "execution_count": 26,
   "id": "363bc85c",
   "metadata": {},
   "outputs": [
    {
     "data": {
      "text/plain": [
       "[1, 3, 5]"
      ]
     },
     "execution_count": 26,
     "metadata": {},
     "output_type": "execute_result"
    }
   ],
   "source": [
    "index_of_caps('eDaBiT')"
   ]
  },
  {
   "cell_type": "code",
   "execution_count": 27,
   "id": "031081de",
   "metadata": {},
   "outputs": [
    {
     "data": {
      "text/plain": [
       "[1, 3, 4, 6]"
      ]
     },
     "execution_count": 27,
     "metadata": {},
     "output_type": "execute_result"
    }
   ],
   "source": [
    "index_of_caps('eQuINoX')"
   ]
  },
  {
   "cell_type": "code",
   "execution_count": 28,
   "id": "65d2fb77",
   "metadata": {},
   "outputs": [
    {
     "data": {
      "text/plain": [
       "[]"
      ]
     },
     "execution_count": 28,
     "metadata": {},
     "output_type": "execute_result"
    }
   ],
   "source": [
    "index_of_caps('determine')"
   ]
  },
  {
   "cell_type": "code",
   "execution_count": 29,
   "id": "49e4525f",
   "metadata": {},
   "outputs": [
    {
     "data": {
      "text/plain": [
       "[0, 1, 2, 3, 4, 5]"
      ]
     },
     "execution_count": 29,
     "metadata": {},
     "output_type": "execute_result"
    }
   ],
   "source": [
    "index_of_caps('STRIKE')"
   ]
  },
  {
   "cell_type": "code",
   "execution_count": 30,
   "id": "9b74bb36",
   "metadata": {},
   "outputs": [
    {
     "data": {
      "text/plain": [
       "[1]"
      ]
     },
     "execution_count": 30,
     "metadata": {},
     "output_type": "execute_result"
    }
   ],
   "source": [
    "index_of_caps('sUn')"
   ]
  },
  {
   "cell_type": "markdown",
   "id": "9c199d0a",
   "metadata": {},
   "source": [
    "Question-05"
   ]
  },
  {
   "cell_type": "code",
   "execution_count": 35,
   "id": "ad97763a",
   "metadata": {},
   "outputs": [],
   "source": [
    "def find_even_nums(user):\n",
    "    return [i for i in range(1,user+1) if i%2==0]"
   ]
  },
  {
   "cell_type": "code",
   "execution_count": 36,
   "id": "8553b1e9",
   "metadata": {},
   "outputs": [
    {
     "data": {
      "text/plain": [
       "[2, 4, 6, 8]"
      ]
     },
     "execution_count": 36,
     "metadata": {},
     "output_type": "execute_result"
    }
   ],
   "source": [
    "find_even_nums(8)"
   ]
  },
  {
   "cell_type": "code",
   "execution_count": 37,
   "id": "a91328c3",
   "metadata": {},
   "outputs": [
    {
     "data": {
      "text/plain": [
       "[2, 4]"
      ]
     },
     "execution_count": 37,
     "metadata": {},
     "output_type": "execute_result"
    }
   ],
   "source": [
    "find_even_nums(4)"
   ]
  },
  {
   "cell_type": "code",
   "execution_count": 38,
   "id": "8c3b2d85",
   "metadata": {},
   "outputs": [
    {
     "data": {
      "text/plain": [
       "[2]"
      ]
     },
     "execution_count": 38,
     "metadata": {},
     "output_type": "execute_result"
    }
   ],
   "source": [
    "find_even_nums(2)"
   ]
  },
  {
   "cell_type": "markdown",
   "id": "963f61ae",
   "metadata": {},
   "source": [
    "Question-03"
   ]
  },
  {
   "cell_type": "code",
   "execution_count": 3,
   "id": "bafb92d2",
   "metadata": {},
   "outputs": [],
   "source": [
    "def thickness(user_number):\n",
    "    result = (user_number*0.5)/1000\n",
    "    return '{}m'.format(result)"
   ]
  },
  {
   "cell_type": "code",
   "execution_count": 4,
   "id": "8bb65d74",
   "metadata": {},
   "outputs": [
    {
     "data": {
      "text/plain": [
       "'0.002m'"
      ]
     },
     "execution_count": 4,
     "metadata": {},
     "output_type": "execute_result"
    }
   ],
   "source": [
    "thickness(4)"
   ]
  },
  {
   "cell_type": "code",
   "execution_count": 5,
   "id": "664a173f",
   "metadata": {},
   "outputs": [
    {
     "data": {
      "text/plain": [
       "'0.0105m'"
      ]
     },
     "execution_count": 5,
     "metadata": {},
     "output_type": "execute_result"
    }
   ],
   "source": [
    "thickness(21)"
   ]
  },
  {
   "cell_type": "code",
   "execution_count": null,
   "id": "5e98418e",
   "metadata": {},
   "outputs": [],
   "source": []
  }
 ],
 "metadata": {
  "kernelspec": {
   "display_name": "Python 3 (ipykernel)",
   "language": "python",
   "name": "python3"
  },
  "language_info": {
   "codemirror_mode": {
    "name": "ipython",
    "version": 3
   },
   "file_extension": ".py",
   "mimetype": "text/x-python",
   "name": "python",
   "nbconvert_exporter": "python",
   "pygments_lexer": "ipython3",
   "version": "3.9.7"
  }
 },
 "nbformat": 4,
 "nbformat_minor": 5
}
