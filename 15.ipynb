{
 "cells": [
  {
   "cell_type": "markdown",
   "id": "5cdbcf84",
   "metadata": {},
   "source": [
    "Question-01"
   ]
  },
  {
   "cell_type": "code",
   "execution_count": 24,
   "id": "c47d03ea",
   "metadata": {},
   "outputs": [],
   "source": [
    "def divisible(user):\n",
    "    result = [str(i) for i in range(0,user+1) if i%5 == 0 and i%7 == 0]\n",
    "    print(', '.join(result))"
   ]
  },
  {
   "cell_type": "code",
   "execution_count": 26,
   "id": "77d78dbc",
   "metadata": {},
   "outputs": [
    {
     "name": "stdout",
     "output_type": "stream",
     "text": [
      "0, 35, 70\n"
     ]
    }
   ],
   "source": [
    "divisible(100)"
   ]
  },
  {
   "cell_type": "code",
   "execution_count": 27,
   "id": "34ebea4b",
   "metadata": {},
   "outputs": [
    {
     "name": "stdout",
     "output_type": "stream",
     "text": [
      "0, 35, 70, 105\n"
     ]
    }
   ],
   "source": [
    "divisible(120)"
   ]
  },
  {
   "cell_type": "markdown",
   "id": "44b20451",
   "metadata": {},
   "source": [
    "Question-02"
   ]
  },
  {
   "cell_type": "code",
   "execution_count": 28,
   "id": "1fb9a9aa",
   "metadata": {},
   "outputs": [],
   "source": [
    "def even_calculator(user):\n",
    "    result = [str(i) for i in range(user+1) if i%2 == 0]\n",
    "    print(', '.join(result))"
   ]
  },
  {
   "cell_type": "code",
   "execution_count": 29,
   "id": "52022a14",
   "metadata": {},
   "outputs": [
    {
     "name": "stdout",
     "output_type": "stream",
     "text": [
      "0, 2, 4, 6, 8, 10\n"
     ]
    }
   ],
   "source": [
    "even_calculator(10)"
   ]
  },
  {
   "cell_type": "code",
   "execution_count": 30,
   "id": "8fb029fd",
   "metadata": {},
   "outputs": [
    {
     "name": "stdout",
     "output_type": "stream",
     "text": [
      "0, 2, 4, 6, 8, 10, 12, 14, 16, 18, 20\n"
     ]
    }
   ],
   "source": [
    "even_calculator(20)"
   ]
  },
  {
   "cell_type": "markdown",
   "id": "f8cceabf",
   "metadata": {},
   "source": [
    "Question-04"
   ]
  },
  {
   "cell_type": "code",
   "execution_count": 34,
   "id": "385baa31",
   "metadata": {},
   "outputs": [],
   "source": [
    "def email(user):\n",
    "    result = user.split('@')\n",
    "    print(result[0])"
   ]
  },
  {
   "cell_type": "code",
   "execution_count": 35,
   "id": "d852aa56",
   "metadata": {},
   "outputs": [
    {
     "name": "stdout",
     "output_type": "stream",
     "text": [
      "subhadipdas911\n"
     ]
    }
   ],
   "source": [
    "email('subhadipdas911@gmail.com')"
   ]
  },
  {
   "cell_type": "code",
   "execution_count": 36,
   "id": "fa23a944",
   "metadata": {},
   "outputs": [
    {
     "name": "stdout",
     "output_type": "stream",
     "text": [
      "john\n"
     ]
    }
   ],
   "source": [
    "email('john@google.com')"
   ]
  },
  {
   "cell_type": "code",
   "execution_count": 37,
   "id": "e5f341b0",
   "metadata": {},
   "outputs": [
    {
     "name": "stdout",
     "output_type": "stream",
     "text": [
      "subhadip\n"
     ]
    }
   ],
   "source": [
    "email('subhadip@yahoo.com')"
   ]
  },
  {
   "cell_type": "code",
   "execution_count": null,
   "id": "eea989ef",
   "metadata": {},
   "outputs": [],
   "source": []
  }
 ],
 "metadata": {
  "kernelspec": {
   "display_name": "Python 3 (ipykernel)",
   "language": "python",
   "name": "python3"
  },
  "language_info": {
   "codemirror_mode": {
    "name": "ipython",
    "version": 3
   },
   "file_extension": ".py",
   "mimetype": "text/x-python",
   "name": "python",
   "nbconvert_exporter": "python",
   "pygments_lexer": "ipython3",
   "version": "3.9.7"
  }
 },
 "nbformat": 4,
 "nbformat_minor": 5
}
