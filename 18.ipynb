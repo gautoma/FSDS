{
 "cells": [
  {
   "cell_type": "markdown",
   "id": "adcb970c",
   "metadata": {},
   "source": [
    "Question-01"
   ]
  },
  {
   "cell_type": "code",
   "execution_count": 1,
   "id": "64df74ae",
   "metadata": {},
   "outputs": [],
   "source": [
    "def filter_list(user_list):\n",
    "    empty=[]\n",
    "    for i in user_list:\n",
    "        if type(i)==int:\n",
    "            empty.append(i)\n",
    "        else:\n",
    "            continue\n",
    "    return empty"
   ]
  },
  {
   "cell_type": "code",
   "execution_count": 2,
   "id": "e7c3c091",
   "metadata": {},
   "outputs": [
    {
     "data": {
      "text/plain": [
       "[1, 2]"
      ]
     },
     "execution_count": 2,
     "metadata": {},
     "output_type": "execute_result"
    }
   ],
   "source": [
    "filter_list([1,2,'a','b'])"
   ]
  },
  {
   "cell_type": "code",
   "execution_count": 3,
   "id": "475eb250",
   "metadata": {},
   "outputs": [
    {
     "data": {
      "text/plain": [
       "[1, 0, 15]"
      ]
     },
     "execution_count": 3,
     "metadata": {},
     "output_type": "execute_result"
    }
   ],
   "source": [
    "filter_list([1,'a','b',0,15])"
   ]
  },
  {
   "cell_type": "code",
   "execution_count": 4,
   "id": "de492cdc",
   "metadata": {},
   "outputs": [
    {
     "data": {
      "text/plain": [
       "[1, 2, 123]"
      ]
     },
     "execution_count": 4,
     "metadata": {},
     "output_type": "execute_result"
    }
   ],
   "source": [
    "filter_list([1,2,'aast','1','123',123])"
   ]
  },
  {
   "cell_type": "markdown",
   "id": "4f00cea4",
   "metadata": {},
   "source": [
    "Question-02"
   ]
  },
  {
   "cell_type": "code",
   "execution_count": 21,
   "id": "e518550c",
   "metadata": {},
   "outputs": [],
   "source": [
    "def reverse(user_string):\n",
    "    result = user_string[::-1]\n",
    "    empty = ''\n",
    "    for i in result:\n",
    "        if i.isupper()==True:\n",
    "            empty = empty+i.lower()\n",
    "        elif i.islower()==True:\n",
    "            empty = empty+i.upper()\n",
    "        else:\n",
    "            empty = empty+' '\n",
    "    return empty\n",
    "    "
   ]
  },
  {
   "cell_type": "code",
   "execution_count": 22,
   "id": "4e1084f7",
   "metadata": {},
   "outputs": [
    {
     "data": {
      "text/plain": [
       "'DLROw OLLEh'"
      ]
     },
     "execution_count": 22,
     "metadata": {},
     "output_type": "execute_result"
    }
   ],
   "source": [
    "reverse('Hello World')"
   ]
  },
  {
   "cell_type": "code",
   "execution_count": 23,
   "id": "3b2c84b0",
   "metadata": {},
   "outputs": [
    {
     "data": {
      "text/plain": [
       "'eSrEvEr'"
      ]
     },
     "execution_count": 23,
     "metadata": {},
     "output_type": "execute_result"
    }
   ],
   "source": [
    "reverse('ReVeRsE')"
   ]
  },
  {
   "cell_type": "code",
   "execution_count": 24,
   "id": "b0712fda",
   "metadata": {},
   "outputs": [
    {
     "data": {
      "text/plain": [
       "'RADAr'"
      ]
     },
     "execution_count": 24,
     "metadata": {},
     "output_type": "execute_result"
    }
   ],
   "source": [
    "reverse('Radar')"
   ]
  },
  {
   "cell_type": "markdown",
   "id": "82ebced6",
   "metadata": {},
   "source": [
    "Question-05"
   ]
  },
  {
   "cell_type": "code",
   "execution_count": 29,
   "id": "610655d1",
   "metadata": {},
   "outputs": [],
   "source": [
    "\n",
    "def move_to_the_end(user_list,number):\n",
    "    final_list = user_list[:]\n",
    "    running_index=0\n",
    "    for i in range(len(final_list)):\n",
    "        if final_list[i] == number:\n",
    "            running_index = final_list.index(final_list[i])\n",
    "            final_list.pop(running_index)\n",
    "            final_list.append(number)\n",
    "    return final_list"
   ]
  },
  {
   "cell_type": "code",
   "execution_count": 31,
   "id": "3d0062a0",
   "metadata": {},
   "outputs": [
    {
     "data": {
      "text/plain": [
       "[2, 3, 4, 1, 1]"
      ]
     },
     "execution_count": 31,
     "metadata": {},
     "output_type": "execute_result"
    }
   ],
   "source": [
    "move_to_the_end([1,1,2,3,4],1)"
   ]
  },
  {
   "cell_type": "code",
   "execution_count": 32,
   "id": "3a33cc05",
   "metadata": {},
   "outputs": [
    {
     "data": {
      "text/plain": [
       "[7, 8, 1, 2, 3, 4, 9]"
      ]
     },
     "execution_count": 32,
     "metadata": {},
     "output_type": "execute_result"
    }
   ],
   "source": [
    "move_to_the_end([7,8,9,1,2,3,4],9)"
   ]
  },
  {
   "cell_type": "code",
   "execution_count": 33,
   "id": "94b4f4b4",
   "metadata": {},
   "outputs": [
    {
     "data": {
      "text/plain": [
       "['b', 'a', 'a', 'a']"
      ]
     },
     "execution_count": 33,
     "metadata": {},
     "output_type": "execute_result"
    }
   ],
   "source": [
    "move_to_the_end(['a','a','a','b'],'a')"
   ]
  },
  {
   "cell_type": "markdown",
   "id": "1aef6e4b",
   "metadata": {},
   "source": [
    "Question-03"
   ]
  },
  {
   "cell_type": "code",
   "execution_count": 2,
   "id": "eba51814",
   "metadata": {},
   "outputs": [],
   "source": [
    "def writeyourcodehere(user_list):\n",
    "    first = user_list[0]\n",
    "    last = user_list[-1]\n",
    "    middle = user_list[1:-1]\n",
    "    print('first',' -> ',first)\n",
    "    print('middle',' -> ',middle)\n",
    "    print('last',' -> ',last)"
   ]
  },
  {
   "cell_type": "code",
   "execution_count": 3,
   "id": "ad24d8b0",
   "metadata": {},
   "outputs": [
    {
     "name": "stdout",
     "output_type": "stream",
     "text": [
      "first  ->  1\n",
      "middle  ->  [2, 3, 4, 5]\n",
      "last  ->  6\n"
     ]
    }
   ],
   "source": [
    "writeyourcodehere([1,2,3,4,5,6])"
   ]
  },
  {
   "cell_type": "code",
   "execution_count": null,
   "id": "17012893",
   "metadata": {},
   "outputs": [],
   "source": []
  }
 ],
 "metadata": {
  "kernelspec": {
   "display_name": "Python 3 (ipykernel)",
   "language": "python",
   "name": "python3"
  },
  "language_info": {
   "codemirror_mode": {
    "name": "ipython",
    "version": 3
   },
   "file_extension": ".py",
   "mimetype": "text/x-python",
   "name": "python",
   "nbconvert_exporter": "python",
   "pygments_lexer": "ipython3",
   "version": "3.9.7"
  }
 },
 "nbformat": 4,
 "nbformat_minor": 5
}
