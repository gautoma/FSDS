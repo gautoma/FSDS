{
 "cells": [
  {
   "cell_type": "markdown",
   "id": "de03a239",
   "metadata": {},
   "source": [
    "Question-01"
   ]
  },
  {
   "cell_type": "code",
   "execution_count": 15,
   "id": "5a964fb2",
   "metadata": {},
   "outputs": [],
   "source": [
    "def evenly_divisible(a,b,c):\n",
    "    result = [i for i in range(a,b+1) if i%c == 0]\n",
    "    final_result=0\n",
    "    for i in result:\n",
    "        final_result+=i\n",
    "    return final_result"
   ]
  },
  {
   "cell_type": "code",
   "execution_count": 16,
   "id": "43103b3e",
   "metadata": {},
   "outputs": [
    {
     "data": {
      "text/plain": [
       "30"
      ]
     },
     "execution_count": 16,
     "metadata": {},
     "output_type": "execute_result"
    }
   ],
   "source": [
    "evenly_divisible(1,10,2)"
   ]
  },
  {
   "cell_type": "code",
   "execution_count": 17,
   "id": "12fc7a40",
   "metadata": {},
   "outputs": [
    {
     "data": {
      "text/plain": [
       "0"
      ]
     },
     "execution_count": 17,
     "metadata": {},
     "output_type": "execute_result"
    }
   ],
   "source": [
    "evenly_divisible(1,10,20)"
   ]
  },
  {
   "cell_type": "code",
   "execution_count": 18,
   "id": "0508f978",
   "metadata": {},
   "outputs": [
    {
     "data": {
      "text/plain": [
       "18"
      ]
     },
     "execution_count": 18,
     "metadata": {},
     "output_type": "execute_result"
    }
   ],
   "source": [
    "evenly_divisible(1,10,3)"
   ]
  },
  {
   "cell_type": "code",
   "execution_count": 23,
   "id": "92da7571",
   "metadata": {},
   "outputs": [
    {
     "data": {
      "text/plain": [
       "True"
      ]
     },
     "execution_count": 23,
     "metadata": {},
     "output_type": "execute_result"
    }
   ],
   "source": [
    "bool('3>11')"
   ]
  },
  {
   "cell_type": "code",
   "execution_count": 24,
   "id": "97fd9805",
   "metadata": {},
   "outputs": [
    {
     "ename": "ValueError",
     "evalue": "invalid literal for int() with base 10: '3>11'",
     "output_type": "error",
     "traceback": [
      "\u001b[1;31m---------------------------------------------------------------------------\u001b[0m",
      "\u001b[1;31mValueError\u001b[0m                                Traceback (most recent call last)",
      "\u001b[1;32m~\\AppData\\Local\\Temp/ipykernel_4304/1255134132.py\u001b[0m in \u001b[0;36m<module>\u001b[1;34m\u001b[0m\n\u001b[1;32m----> 1\u001b[1;33m \u001b[0mint\u001b[0m\u001b[1;33m(\u001b[0m\u001b[1;34m'3>11'\u001b[0m\u001b[1;33m)\u001b[0m\u001b[1;33m\u001b[0m\u001b[1;33m\u001b[0m\u001b[0m\n\u001b[0m",
      "\u001b[1;31mValueError\u001b[0m: invalid literal for int() with base 10: '3>11'"
     ]
    }
   ],
   "source": [
    "int('3>11')"
   ]
  },
  {
   "cell_type": "markdown",
   "id": "e6892402",
   "metadata": {},
   "source": [
    "Question-03"
   ]
  },
  {
   "cell_type": "code",
   "execution_count": 25,
   "id": "4924aa86",
   "metadata": {},
   "outputs": [],
   "source": [
    "def replace_vowels(user,value):\n",
    "    return ''.join([value if i.lower() in 'aeiou' else i for i in user])"
   ]
  },
  {
   "cell_type": "code",
   "execution_count": 26,
   "id": "e1cd77a2",
   "metadata": {},
   "outputs": [
    {
     "data": {
      "text/plain": [
       "'th# ##rdv#rk'"
      ]
     },
     "execution_count": 26,
     "metadata": {},
     "output_type": "execute_result"
    }
   ],
   "source": [
    "replace_vowels('the aardvark','#')"
   ]
  },
  {
   "cell_type": "code",
   "execution_count": 27,
   "id": "ca517879",
   "metadata": {},
   "outputs": [
    {
     "data": {
      "text/plain": [
       "'m?nn?? m??s?'"
      ]
     },
     "execution_count": 27,
     "metadata": {},
     "output_type": "execute_result"
    }
   ],
   "source": [
    "replace_vowels('minnie mouse','?')"
   ]
  },
  {
   "cell_type": "code",
   "execution_count": 28,
   "id": "fb153496",
   "metadata": {},
   "outputs": [
    {
     "data": {
      "text/plain": [
       "'sh*k*sp**r*'"
      ]
     },
     "execution_count": 28,
     "metadata": {},
     "output_type": "execute_result"
    }
   ],
   "source": [
    "replace_vowels('shakespeare','*')"
   ]
  },
  {
   "cell_type": "markdown",
   "id": "c855f9c7",
   "metadata": {},
   "source": [
    "Question-05"
   ]
  },
  {
   "cell_type": "code",
   "execution_count": 33,
   "id": "19611eac",
   "metadata": {},
   "outputs": [],
   "source": [
    "def hamming_distance(string_one,string_two):\n",
    "    first = [i for i in string_one if i not in string_two]\n",
    "    second = [i for i in string_two if i not in string_one]\n",
    "    \n",
    "    first_ord = 0\n",
    "    for i in first:\n",
    "        first_ord=ord(i)\n",
    "    second_ord = 0\n",
    "    for i in second:\n",
    "        second_ord=ord(i)\n",
    "        \n",
    "    return second_ord-first_ord"
   ]
  },
  {
   "cell_type": "code",
   "execution_count": 34,
   "id": "74a9b855",
   "metadata": {},
   "outputs": [
    {
     "data": {
      "text/plain": [
       "5"
      ]
     },
     "execution_count": 34,
     "metadata": {},
     "output_type": "execute_result"
    }
   ],
   "source": [
    "hamming_distance('abcde','bcdef')"
   ]
  },
  {
   "cell_type": "code",
   "execution_count": 35,
   "id": "48068cdb",
   "metadata": {},
   "outputs": [
    {
     "data": {
      "text/plain": [
       "0"
      ]
     },
     "execution_count": 35,
     "metadata": {},
     "output_type": "execute_result"
    }
   ],
   "source": [
    "hamming_distance('abcde','abcde')"
   ]
  },
  {
   "cell_type": "code",
   "execution_count": 36,
   "id": "e1c20e77",
   "metadata": {},
   "outputs": [
    {
     "data": {
      "text/plain": [
       "6"
      ]
     },
     "execution_count": 36,
     "metadata": {},
     "output_type": "execute_result"
    }
   ],
   "source": [
    "hamming_distance('strong','strung')"
   ]
  },
  {
   "cell_type": "code",
   "execution_count": 37,
   "id": "9702f15e",
   "metadata": {},
   "outputs": [
    {
     "data": {
      "text/plain": [
       "111"
      ]
     },
     "execution_count": 37,
     "metadata": {},
     "output_type": "execute_result"
    }
   ],
   "source": [
    "ord('o')"
   ]
  },
  {
   "cell_type": "code",
   "execution_count": 38,
   "id": "20146137",
   "metadata": {},
   "outputs": [
    {
     "data": {
      "text/plain": [
       "117"
      ]
     },
     "execution_count": 38,
     "metadata": {},
     "output_type": "execute_result"
    }
   ],
   "source": [
    "ord('u')"
   ]
  },
  {
   "cell_type": "markdown",
   "id": "21b0774c",
   "metadata": {},
   "source": [
    "eval('12>4')"
   ]
  },
  {
   "cell_type": "markdown",
   "id": "8588e1f6",
   "metadata": {},
   "source": [
    "Question-02"
   ]
  },
  {
   "cell_type": "code",
   "execution_count": 43,
   "id": "1a6b148e",
   "metadata": {},
   "outputs": [],
   "source": [
    "def correct_signs(user):\n",
    "    return eval(user)"
   ]
  },
  {
   "cell_type": "code",
   "execution_count": 44,
   "id": "ea64e020",
   "metadata": {},
   "outputs": [
    {
     "data": {
      "text/plain": [
       "True"
      ]
     },
     "execution_count": 44,
     "metadata": {},
     "output_type": "execute_result"
    }
   ],
   "source": [
    "correct_signs('3<7<11')"
   ]
  },
  {
   "cell_type": "code",
   "execution_count": 45,
   "id": "c741e3f8",
   "metadata": {},
   "outputs": [
    {
     "data": {
      "text/plain": [
       "False"
      ]
     },
     "execution_count": 45,
     "metadata": {},
     "output_type": "execute_result"
    }
   ],
   "source": [
    "correct_signs('13>44>33>1')"
   ]
  },
  {
   "cell_type": "code",
   "execution_count": 46,
   "id": "a613e3d2",
   "metadata": {},
   "outputs": [
    {
     "data": {
      "text/plain": [
       "True"
      ]
     },
     "execution_count": 46,
     "metadata": {},
     "output_type": "execute_result"
    }
   ],
   "source": [
    "correct_signs('1<2<6<9>3')"
   ]
  },
  {
   "cell_type": "code",
   "execution_count": null,
   "id": "f1919ea7",
   "metadata": {},
   "outputs": [],
   "source": []
  }
 ],
 "metadata": {
  "kernelspec": {
   "display_name": "Python 3 (ipykernel)",
   "language": "python",
   "name": "python3"
  },
  "language_info": {
   "codemirror_mode": {
    "name": "ipython",
    "version": 3
   },
   "file_extension": ".py",
   "mimetype": "text/x-python",
   "name": "python",
   "nbconvert_exporter": "python",
   "pygments_lexer": "ipython3",
   "version": "3.9.7"
  }
 },
 "nbformat": 4,
 "nbformat_minor": 5
}
