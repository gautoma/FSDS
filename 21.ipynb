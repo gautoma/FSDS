{
 "cells": [
  {
   "cell_type": "markdown",
   "id": "ce93a902",
   "metadata": {},
   "source": [
    "Question-01"
   ]
  },
  {
   "cell_type": "code",
   "execution_count": 7,
   "id": "0b1dcb45",
   "metadata": {},
   "outputs": [],
   "source": [
    "def next_in_line(user_list,user_element):\n",
    "    if len(user_list)==0:\n",
    "        return 'No list has been selected'\n",
    "    resultant = user_list[:]\n",
    "    resultant.append(user_element)\n",
    "    resultant.pop(0)\n",
    "    return resultant\n",
    "    "
   ]
  },
  {
   "cell_type": "code",
   "execution_count": 8,
   "id": "c92e0190",
   "metadata": {},
   "outputs": [
    {
     "data": {
      "text/plain": [
       "[6, 7, 8, 9, 1]"
      ]
     },
     "execution_count": 8,
     "metadata": {},
     "output_type": "execute_result"
    }
   ],
   "source": [
    "next_in_line([5,6,7,8,9],1)"
   ]
  },
  {
   "cell_type": "code",
   "execution_count": 9,
   "id": "1866bc36",
   "metadata": {},
   "outputs": [
    {
     "data": {
      "text/plain": [
       "[6, 3, 23, 17, 10]"
      ]
     },
     "execution_count": 9,
     "metadata": {},
     "output_type": "execute_result"
    }
   ],
   "source": [
    "next_in_line([7,6,3,23,17],10)"
   ]
  },
  {
   "cell_type": "code",
   "execution_count": 10,
   "id": "8c411cab",
   "metadata": {},
   "outputs": [
    {
     "data": {
      "text/plain": [
       "[10, 20, 42, 6]"
      ]
     },
     "execution_count": 10,
     "metadata": {},
     "output_type": "execute_result"
    }
   ],
   "source": [
    "next_in_line([1,10,20,42 ],6)"
   ]
  },
  {
   "cell_type": "code",
   "execution_count": 11,
   "id": "67fcb661",
   "metadata": {},
   "outputs": [
    {
     "data": {
      "text/plain": [
       "'No list has been selected'"
      ]
     },
     "execution_count": 11,
     "metadata": {},
     "output_type": "execute_result"
    }
   ],
   "source": [
    "next_in_line([],6)"
   ]
  },
  {
   "cell_type": "markdown",
   "id": "62218b33",
   "metadata": {},
   "source": [
    "Question-02"
   ]
  },
  {
   "cell_type": "code",
   "execution_count": 25,
   "id": "78faa592",
   "metadata": {},
   "outputs": [],
   "source": [
    "def get_budget(user_list):\n",
    "    running_total=0\n",
    "    for i in user_list:\n",
    "        for k,v in i.items():\n",
    "            if k == 'budget':\n",
    "                running_total+=v\n",
    "    return running_total"
   ]
  },
  {
   "cell_type": "code",
   "execution_count": 28,
   "id": "6c460495",
   "metadata": {},
   "outputs": [
    {
     "data": {
      "text/plain": [
       "65700"
      ]
     },
     "execution_count": 28,
     "metadata": {},
     "output_type": "execute_result"
    }
   ],
   "source": [
    "get_budget([\n",
    "    {'name':'John','age':21,'budget':23000},\n",
    "    {'name':'Steve','age':32,'budget':40000},\n",
    "    {'name':'Martin','age':16,'budget':2700}\n",
    "])"
   ]
  },
  {
   "cell_type": "code",
   "execution_count": 29,
   "id": "5521ee19",
   "metadata": {},
   "outputs": [
    {
     "data": {
      "text/plain": [
       "62600"
      ]
     },
     "execution_count": 29,
     "metadata": {},
     "output_type": "execute_result"
    }
   ],
   "source": [
    "get_budget([\n",
    "    {'name':'John','age':21,'budget':29000},\n",
    "    {'name':'Steve','age':32,'budget':32000},\n",
    "    {'name':'Martin','age':16,'budget':1600}\n",
    "])"
   ]
  },
  {
   "cell_type": "markdown",
   "id": "1763efb1",
   "metadata": {},
   "source": [
    "Question-03"
   ]
  },
  {
   "cell_type": "code",
   "execution_count": 32,
   "id": "de907da2",
   "metadata": {},
   "outputs": [],
   "source": [
    "def alphabet_soup(user_string):\n",
    "    return ''.join(sorted(user_string))\n"
   ]
  },
  {
   "cell_type": "code",
   "execution_count": 33,
   "id": "24381d83",
   "metadata": {},
   "outputs": [
    {
     "data": {
      "text/plain": [
       "'ehllo'"
      ]
     },
     "execution_count": 33,
     "metadata": {},
     "output_type": "execute_result"
    }
   ],
   "source": [
    "alphabet_soup('hello')"
   ]
  },
  {
   "cell_type": "code",
   "execution_count": 34,
   "id": "17405905",
   "metadata": {},
   "outputs": [
    {
     "data": {
      "text/plain": [
       "'abdeit'"
      ]
     },
     "execution_count": 34,
     "metadata": {},
     "output_type": "execute_result"
    }
   ],
   "source": [
    "alphabet_soup('edabit')"
   ]
  },
  {
   "cell_type": "code",
   "execution_count": 35,
   "id": "d22fc2f5",
   "metadata": {},
   "outputs": [
    {
     "data": {
      "text/plain": [
       "'acehkr'"
      ]
     },
     "execution_count": 35,
     "metadata": {},
     "output_type": "execute_result"
    }
   ],
   "source": [
    "alphabet_soup('hacker')"
   ]
  },
  {
   "cell_type": "code",
   "execution_count": 36,
   "id": "e60f6e39",
   "metadata": {},
   "outputs": [
    {
     "data": {
      "text/plain": [
       "'eegk'"
      ]
     },
     "execution_count": 36,
     "metadata": {},
     "output_type": "execute_result"
    }
   ],
   "source": [
    "alphabet_soup('geek')"
   ]
  },
  {
   "cell_type": "code",
   "execution_count": 37,
   "id": "d8c32adb",
   "metadata": {},
   "outputs": [
    {
     "data": {
      "text/plain": [
       "'aacijprstv'"
      ]
     },
     "execution_count": 37,
     "metadata": {},
     "output_type": "execute_result"
    }
   ],
   "source": [
    "alphabet_soup('javascript')"
   ]
  },
  {
   "cell_type": "markdown",
   "id": "cdaac3a6",
   "metadata": {},
   "source": [
    "Question-04"
   ]
  },
  {
   "cell_type": "code",
   "execution_count": 52,
   "id": "dea04a2f",
   "metadata": {},
   "outputs": [],
   "source": [
    "def compound_interest(principal,years,rate,time):\n",
    "    amount = principal*(1+(rate/time))**(time*years)\n",
    "    return round(amount,2)"
   ]
  },
  {
   "cell_type": "code",
   "execution_count": 53,
   "id": "09048d13",
   "metadata": {},
   "outputs": [
    {
     "data": {
      "text/plain": [
       "105.0"
      ]
     },
     "execution_count": 53,
     "metadata": {},
     "output_type": "execute_result"
    }
   ],
   "source": [
    "compound_interest(100,1,0.05,1)"
   ]
  },
  {
   "cell_type": "code",
   "execution_count": 54,
   "id": "d357ffd9",
   "metadata": {},
   "outputs": [
    {
     "data": {
      "text/plain": [
       "15399.26"
      ]
     },
     "execution_count": 54,
     "metadata": {},
     "output_type": "execute_result"
    }
   ],
   "source": [
    "compound_interest(3500,15,0.1,4)"
   ]
  },
  {
   "cell_type": "code",
   "execution_count": 55,
   "id": "23e2e033",
   "metadata": {},
   "outputs": [
    {
     "data": {
      "text/plain": [
       "2007316.26"
      ]
     },
     "execution_count": 55,
     "metadata": {},
     "output_type": "execute_result"
    }
   ],
   "source": [
    "compound_interest(100000,20,0.15,365)"
   ]
  },
  {
   "cell_type": "markdown",
   "id": "70626091",
   "metadata": {},
   "source": [
    "Question-05"
   ]
  },
  {
   "cell_type": "code",
   "execution_count": 58,
   "id": "cd505ca9",
   "metadata": {},
   "outputs": [],
   "source": [
    "def return_only_integer(user_list):\n",
    "    return [i for i in user_list if type(i) == int]"
   ]
  },
  {
   "cell_type": "code",
   "execution_count": 59,
   "id": "1b2d1f8e",
   "metadata": {},
   "outputs": [
    {
     "data": {
      "text/plain": [
       "[9, 2, 16]"
      ]
     },
     "execution_count": 59,
     "metadata": {},
     "output_type": "execute_result"
    }
   ],
   "source": [
    "return_only_integer([9,2,'space','car','lion',16])"
   ]
  },
  {
   "cell_type": "code",
   "execution_count": 60,
   "id": "33090f6f",
   "metadata": {},
   "outputs": [
    {
     "data": {
      "text/plain": [
       "[81, 123]"
      ]
     },
     "execution_count": 60,
     "metadata": {},
     "output_type": "execute_result"
    }
   ],
   "source": [
    "return_only_integer(['hello',81,'basketball',123,'fox'])"
   ]
  },
  {
   "cell_type": "code",
   "execution_count": 61,
   "id": "b11a35a2",
   "metadata": {},
   "outputs": [
    {
     "data": {
      "text/plain": [
       "[10, 56, 20, 3]"
      ]
     },
     "execution_count": 61,
     "metadata": {},
     "output_type": "execute_result"
    }
   ],
   "source": [
    "return_only_integer([10,'121',56,20,'car',3,'lion'])"
   ]
  },
  {
   "cell_type": "code",
   "execution_count": 62,
   "id": "90c2bc97",
   "metadata": {},
   "outputs": [
    {
     "data": {
      "text/plain": [
       "[1]"
      ]
     },
     "execution_count": 62,
     "metadata": {},
     "output_type": "execute_result"
    }
   ],
   "source": [
    "return_only_integer(['String',True,3.3,1])"
   ]
  },
  {
   "cell_type": "code",
   "execution_count": null,
   "id": "90f2c950",
   "metadata": {},
   "outputs": [],
   "source": []
  }
 ],
 "metadata": {
  "kernelspec": {
   "display_name": "Python 3 (ipykernel)",
   "language": "python",
   "name": "python3"
  },
  "language_info": {
   "codemirror_mode": {
    "name": "ipython",
    "version": 3
   },
   "file_extension": ".py",
   "mimetype": "text/x-python",
   "name": "python",
   "nbconvert_exporter": "python",
   "pygments_lexer": "ipython3",
   "version": "3.9.7"
  }
 },
 "nbformat": 4,
 "nbformat_minor": 5
}
